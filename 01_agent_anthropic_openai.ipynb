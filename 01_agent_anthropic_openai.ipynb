{
 "cells": [
  {
   "metadata": {},
   "cell_type": "markdown",
   "source": [
    "### Let's implement and test the simplest flow\n",
    "1. User asks a question\n",
    "2. Agent decides which tool to use\n",
    "3. Agent uses the tool\n",
    "4. Agent returns the answer to the user"
   ],
   "id": "4be8a21a8bce4b75"
  },
  {
   "metadata": {},
   "cell_type": "markdown",
   "source": "### Minimal imports",
   "id": "a8e5cec22c288c85"
  },
  {
   "metadata": {
    "collapsed": true
   },
   "cell_type": "code",
   "source": [
    "import os\n",
    "import requests\n",
    "import json\n",
    "from dotenv import load_dotenv\n",
    "load_dotenv()"
   ],
   "id": "1648c96329ef2eee",
   "outputs": [],
   "execution_count": null
  },
  {
   "metadata": {},
   "cell_type": "markdown",
   "source": "### User's message",
   "id": "da026a593180a047"
  },
  {
   "metadata": {},
   "cell_type": "code",
   "source": "user_message = \"What's the weather in Warsaw? What can I do there with that weather?\"",
   "id": "19f8c00217dad701",
   "outputs": [],
   "execution_count": null
  },
  {
   "metadata": {},
   "cell_type": "markdown",
   "source": "### Tools Definition",
   "id": "8c3621a1357d1e7e"
  },
  {
   "metadata": {},
   "cell_type": "code",
   "source": [
    "check_weather_name = \"get_weather\"\n",
    "check_weather_description = \"Get the current weather in a given location\""
   ],
   "id": "c91e8b9cc272149",
   "outputs": [],
   "execution_count": null
  },
  {
   "metadata": {},
   "cell_type": "code",
   "source": [
    "wikipedia_facts_name = \"facts_from_wikipedia\"\n",
    "wikipedia_facts_description = \"Get the wikipedia facts about a given topic, location, person etc.\""
   ],
   "id": "d07675182198500a",
   "outputs": [],
   "execution_count": null
  },
  {
   "metadata": {},
   "cell_type": "markdown",
   "source": "#### (A) Anthropic Tools Definition",
   "id": "17c40c665143ffb"
  },
  {
   "metadata": {},
   "cell_type": "code",
   "source": [
    "check_weather_tool_anthropic = {\n",
    "    \"name\": check_weather_name,\n",
    "    \"description\": check_weather_description,\n",
    "    \"input_schema\": {\n",
    "        \"type\": \"object\",\n",
    "        \"properties\": {\n",
    "            \"latitude\": {\n",
    "                \"type\": \"string\",\n",
    "                \"description\": \"latitude of the location for which to get the weather\",\n",
    "            },\n",
    "            \"longitude\": {\n",
    "                \"type\": \"string\",\n",
    "                \"description\": \"longitude of the location for which to get the weather\",\n",
    "            },\n",
    "        },\n",
    "        \"required\": [\"latitude\", \"longitude\"],\n",
    "    },\n",
    "}"
   ],
   "id": "e912c1f8dda7f0bd",
   "outputs": [],
   "execution_count": null
  },
  {
   "metadata": {},
   "cell_type": "code",
   "source": [
    "wikipedia_facts_tool_anthropic = {\n",
    "    \"name\": wikipedia_facts_name,\n",
    "    \"description\": wikipedia_facts_description,\n",
    "    \"input_schema\": {\n",
    "        \"type\": \"object\",\n",
    "        \"properties\": {\n",
    "            \"topic\": {\n",
    "                \"type\": \"string\",\n",
    "                \"description\": \"A topic, location, person etc. to search for on Wikipedia\",\n",
    "            },\n",
    "        },\n",
    "        \"required\": [\"topic\"],\n",
    "    },\n",
    "}"
   ],
   "id": "b4155189cfc299e6",
   "outputs": [],
   "execution_count": null
  },
  {
   "metadata": {},
   "cell_type": "code",
   "source": [
    "tools_antrhopic = [check_weather_tool_anthropic]\n",
    "tools_antrhopic.append(wikipedia_facts_tool_anthropic)"
   ],
   "id": "46b9f58504704e14",
   "outputs": [],
   "execution_count": null
  },
  {
   "metadata": {},
   "cell_type": "markdown",
   "source": "#### (B) OpenAI Tools Definition",
   "id": "8794fb40d304c211"
  },
  {
   "metadata": {},
   "cell_type": "code",
   "source": [
    "check_weather_tool_openai = {\n",
    "    \"type\": \"function\",\n",
    "    \"name\": check_weather_name,\n",
    "    \"description\": check_weather_description,\n",
    "    \"parameters\": {\n",
    "        \"type\": \"object\",\n",
    "        \"properties\": {\n",
    "            \"latitude\": {\n",
    "                \"type\": \"string\",\n",
    "                \"description\": \"latitude of the location for which to get the weather\",\n",
    "            },\n",
    "            \"longitude\": {\n",
    "                \"type\": \"string\",\n",
    "                \"description\": \"longitude of the location for which to get the weather\",\n",
    "            },\n",
    "        },\n",
    "        \"required\": [\"latitude\", \"longitude\"],\n",
    "        \"additionalProperties\": False,  # Additional keys are not allowed\n",
    "\n",
    "    },\n",
    "    \"strict\": True,  # Enforce strict adherence to the schema\n",
    "}"
   ],
   "id": "6dca6288a0f0115d",
   "outputs": [],
   "execution_count": null
  },
  {
   "metadata": {},
   "cell_type": "code",
   "source": [
    "wikipedia_facts_tool_openai = {\n",
    "    \"type\": \"function\",\n",
    "    \"name\": wikipedia_facts_name,\n",
    "    \"description\": wikipedia_facts_description,\n",
    "    \"parameters\": {\n",
    "        \"type\": \"object\",\n",
    "        \"properties\": {\n",
    "            \"topic\": {\n",
    "                \"type\": \"string\",\n",
    "                \"description\": \"A topic, location, person etc. to search for on Wikipedia\",\n",
    "            },\n",
    "        },\n",
    "        \"required\": [\"topic\"],\n",
    "        \"additionalProperties\": False,\n",
    "    },\n",
    "    \"strict\": True,\n",
    "}"
   ],
   "id": "83ad7e11070e990d",
   "outputs": [],
   "execution_count": null
  },
  {
   "metadata": {},
   "cell_type": "code",
   "source": [
    "tools_openai = [check_weather_tool_openai]\n",
    "tools_openai.append(wikipedia_facts_tool_openai)"
   ],
   "id": "58bd3956f156399c",
   "outputs": [],
   "execution_count": null
  },
  {
   "metadata": {},
   "cell_type": "markdown",
   "source": "### Let's make the first LLM call to decide which tool to use and with what parameters",
   "id": "cecd1cb0863f065"
  },
  {
   "metadata": {},
   "cell_type": "markdown",
   "source": "#### (A) Anthropic LLM Call",
   "id": "41b562f23af85c1d"
  },
  {
   "metadata": {},
   "cell_type": "code",
   "source": [
    "url_anthropic = \"https://api.anthropic.com/v1/messages\"\n",
    "\n",
    "headers_anthropic = {\n",
    "    \"Content-Type\": \"application/json\",\n",
    "    \"x-api-key\": os.getenv(\"ANTHROPIC_API_KEY\"),\n",
    "    \"anthropic-version\": \"2023-06-01\",\n",
    "}"
   ],
   "id": "f6785294e3533df9",
   "outputs": [],
   "execution_count": null
  },
  {
   "metadata": {},
   "cell_type": "code",
   "source": [
    "payload_anthropic = {\n",
    "    \"model\": \"claude-sonnet-4-5\",\n",
    "    \"max_tokens\": 300,\n",
    "    \"tools\": tools_antrhopic,\n",
    "    \"tool_choice\": {\"type\": \"auto\"},\n",
    "    \"messages\": [\n",
    "        {\n",
    "            \"role\": \"user\",\n",
    "            \"content\": user_message,\n",
    "        }\n",
    "    ]\n",
    "}\n",
    "resp_anthropic = requests.post(url_anthropic, headers=headers_anthropic, json=payload_anthropic)\n",
    "print(resp_anthropic.status_code)"
   ],
   "id": "68c65f1d3366c8ef",
   "outputs": [],
   "execution_count": null
  },
  {
   "metadata": {},
   "cell_type": "code",
   "source": "response_content_anthropic = resp_anthropic.json().get(\"content\", [])",
   "id": "c62d70d2024eb443",
   "outputs": [],
   "execution_count": null
  },
  {
   "metadata": {},
   "cell_type": "markdown",
   "source": "#### (B) OpenAI LLM Call",
   "id": "91d969b6899c153f"
  },
  {
   "metadata": {},
   "cell_type": "code",
   "source": [
    "openai_direct_config = {\n",
    "    \"url\": \"https://api.openai.com/v1/responses\",\n",
    "    \"api_key\": os.getenv(\"OPENAI_API_KEY\"),\n",
    "    \"model\": \"gpt-5\",\n",
    "    }\n",
    "\n",
    "openai_azure_config = {\n",
    "    \"url\": f\"https://{os.getenv(\"DEV_AZURE_RESOURCE\")}.openai.azure.com/openai/v1/responses\",\n",
    "    \"api_key\": os.getenv(\"DEV_AZURE_API_KEY\"),\n",
    "    \"model\": os.getenv(\"DEV_AZURE_OPENAI_MODEL\"),\n",
    "}\n",
    "\n",
    "openai_config = openai_azure_config\n",
    "\n",
    "headers_openai = {\n",
    "    \"Content-Type\": \"application/json\",\n",
    "    \"Authorization\": f\"Bearer {openai_config['api_key']}\",\n",
    "}"
   ],
   "id": "5f150f4faee5ce6d",
   "outputs": [],
   "execution_count": null
  },
  {
   "metadata": {},
   "cell_type": "code",
   "source": [
    "payload_openai = {\n",
    "    \"model\": openai_config[\"model\"],\n",
    "    \"tools\": tools_openai,\n",
    "    \"input\": user_message,\n",
    "    # \"reasoning\": {\n",
    "    #     \"effort\": \"medium\",\n",
    "    #     \"summary\": \"auto\"\n",
    "    # },\n",
    "}\n",
    "\n",
    "resp_openai = requests.post(openai_config[\"url\"], headers=headers_openai, json=payload_openai)\n",
    "print(resp_openai.status_code)"
   ],
   "id": "e7be18dc7a250ede",
   "outputs": [],
   "execution_count": null
  },
  {
   "metadata": {},
   "cell_type": "code",
   "source": "response_content_openai = resp_openai.json().get(\"output\", [])",
   "id": "ed7f56c9b3e3c5f2",
   "outputs": [],
   "execution_count": null
  },
  {
   "metadata": {},
   "cell_type": "markdown",
   "source": "### Now let's process the output from the tool use step",
   "id": "fa07bf2c053185ad"
  },
  {
   "metadata": {},
   "cell_type": "markdown",
   "source": "#### (A) Extracting tools from Anthropic response",
   "id": "1ebe11690f95f364"
  },
  {
   "metadata": {},
   "cell_type": "code",
   "source": "tools = [block for block in response_content_anthropic if block.get(\"type\") == \"tool_use\"]",
   "id": "e25608691eaae6f3",
   "outputs": [],
   "execution_count": null
  },
  {
   "metadata": {},
   "cell_type": "code",
   "source": [
    "for tool in tools:\n",
    "    if tool[\"name\"] == \"get_weather\":\n",
    "        latitude = tool[\"input\"][\"latitude\"]\n",
    "        longitude = tool[\"input\"][\"longitude\"]\n",
    "        weather_tool_response = requests.get(\n",
    "            url=\"https://api.open-meteo.com/v1/forecast\",\n",
    "            params={\"latitude\": latitude, \"longitude\": longitude, \"current_weather\": True},\n",
    "            # verify=False\n",
    "        )\n",
    "        weather_info = weather_tool_response.json()[\"current_weather\"]\n",
    "        tool[\"output\"] = weather_info\n",
    "    if tool[\"name\"] == \"facts_from_wikipedia\":\n",
    "        topic = tool[\"input\"][\"topic\"]\n",
    "        headers = {\n",
    "            'User-Agent': 'Agent101Bot/1.0 (Educational purpose only)',\n",
    "            'Accept': 'application/json'\n",
    "        }\n",
    "        wikipedia_response = requests.get(\n",
    "            url=f\"https://en.wikipedia.org/w/api.php?action=query&prop=revisions&titles={topic}&rvprop=content&format=json\",\n",
    "            headers=headers,\n",
    "            # verify=False\n",
    "        )\n",
    "        wiki_info = wikipedia_response.json()\n",
    "        tool[\"output\"] = wiki_info"
   ],
   "id": "3a36ea9bb68e63b7",
   "outputs": [],
   "execution_count": null
  },
  {
   "metadata": {},
   "cell_type": "markdown",
   "source": "#### (B) Extracting tools from OpenAI response",
   "id": "6fc396e3dc6c0abb"
  },
  {
   "metadata": {},
   "cell_type": "code",
   "source": "tools = [block for block in response_content_openai if block.get(\"type\") == \"function_call\"]",
   "id": "a64eb3df5170bdf5",
   "outputs": [],
   "execution_count": null
  },
  {
   "metadata": {},
   "cell_type": "code",
   "source": [
    "for tool in tools:\n",
    "    if tool[\"name\"] == \"get_weather\":\n",
    "        latitude = json.loads(tool[\"arguments\"])[\"latitude\"]\n",
    "        longitude = json.loads(tool[\"arguments\"])[\"longitude\"]\n",
    "        weather_tool_response = requests.get(\n",
    "            url=\"https://api.open-meteo.com/v1/forecast\",\n",
    "            params={\"latitude\": latitude, \"longitude\": longitude, \"current_weather\": True},\n",
    "            verify=False # simpler than adding TMPL certs in this demo\n",
    "        )\n",
    "        weather_info = weather_tool_response.json()[\"current_weather\"]\n",
    "        tool[\"output\"] = weather_info\n",
    "    if tool[\"name\"] == \"facts_from_wikipedia\":\n",
    "        topic = latitude = json.loads(tool[\"arguments\"])[\"topic\"]\n",
    "        headers = {\n",
    "            'User-Agent': 'Agent101Bot/1.0 (Educational purpose only)',\n",
    "            'Accept': 'application/json'\n",
    "        }\n",
    "        wikipedia_response = requests.get(\n",
    "            url=f\"https://en.wikipedia.org/w/api.php?action=query&prop=revisions&titles={topic}&rvprop=content&format=json\",\n",
    "            headers=headers,\n",
    "            verify=False\n",
    "        )\n",
    "        wiki_info = wikipedia_response.json()\n",
    "        tool[\"output\"] = wiki_info"
   ],
   "id": "125095338e4d6908",
   "outputs": [],
   "execution_count": null
  },
  {
   "metadata": {},
   "cell_type": "markdown",
   "source": "#### Collecting outputs from all tools into a single string",
   "id": "477218d3f9675f6"
  },
  {
   "metadata": {},
   "cell_type": "code",
   "source": "tool_outputs = \"\\n\".join([f\"Tool: {tool['name']}, Output: {tool.get('output', 'No output')}\" for tool in tools])",
   "id": "69d463b59cf37fb0",
   "outputs": [],
   "execution_count": null
  },
  {
   "metadata": {},
   "cell_type": "markdown",
   "source": "### Finally, let's make the last LLM call to get the final answer",
   "id": "dbc78c2aff854010"
  },
  {
   "metadata": {},
   "cell_type": "code",
   "source": [
    "final_prompt = f\"\"\"You are an assistant that responds to user query based on the tools used. Respond politely to user's query using only the output from the tools. If the tool_output is empty, then always respond with \"I'm not able to answer\". Use only information from the tool_outputs to answer the question. Do not mention anything about the the tools. If information necessary to answer some of the questions or part of a question is missing from the tool_outputs, say you're not able to answer to that particular part.\n",
    "\n",
    "<user_query>\n",
    "{user_message}\n",
    "</user_query>\n",
    "\n",
    "<tool_outputs>\n",
    "{tool_outputs}\n",
    "</tool_outputs>\n",
    "\n",
    "Remember, to answer the questions in <user_query>, use the information from the <tool_outputs> section only. If some information is missing from the <tool_outputs>, do not reply to that specific part of the query.\n",
    "\"\"\""
   ],
   "id": "6ec533475f0be339",
   "outputs": [],
   "execution_count": null
  },
  {
   "metadata": {},
   "cell_type": "markdown",
   "source": "#### (A) Anthropic final LLM call",
   "id": "5aa28c763d08903e"
  },
  {
   "metadata": {},
   "cell_type": "code",
   "source": [
    "payload_final_anthropic = {\n",
    "    \"model\": \"claude-sonnet-4-5\",\n",
    "    \"max_tokens\": 300,\n",
    "    \"messages\": [\n",
    "        {\n",
    "            \"role\": \"user\",\n",
    "            \"content\": final_prompt,\n",
    "        }\n",
    "    ]\n",
    "}\n",
    "response_final_anthropic = requests.post(url_anthropic, headers=headers_anthropic, json=payload_final_anthropic)\n",
    "print(response_final_anthropic.status_code)"
   ],
   "id": "787482b4ba07fad1",
   "outputs": [],
   "execution_count": null
  },
  {
   "metadata": {},
   "cell_type": "code",
   "source": "final_response = response_final_anthropic.json().get(\"content\", [])[0].get(\"text\", \"No response\")",
   "id": "fb2795aca798aa6f",
   "outputs": [],
   "execution_count": null
  },
  {
   "metadata": {},
   "cell_type": "markdown",
   "source": "#### (B) OpenAI final LLM call",
   "id": "e69f477f086395c8"
  },
  {
   "metadata": {},
   "cell_type": "code",
   "source": [
    "payload_final_openai = {\n",
    "    \"model\": openai_config[\"model\"],\n",
    "    \"input\": final_prompt,\n",
    "}\n",
    "response_final_openai = requests.post(openai_config[\"url\"], headers=headers_openai, json=payload_final_openai)\n",
    "print(response_final_openai.status_code)"
   ],
   "id": "988e6ee03ab8d189",
   "outputs": [],
   "execution_count": null
  },
  {
   "metadata": {},
   "cell_type": "code",
   "source": "final_response = response_final_openai.json().get(\"output\", \"No response\")[1][\"content\"][0][\"text\"]",
   "id": "885f598ca2897e36",
   "outputs": [],
   "execution_count": null
  },
  {
   "metadata": {},
   "cell_type": "markdown",
   "source": "### Reading the final response",
   "id": "29b9299a3fd1c035"
  },
  {
   "metadata": {},
   "cell_type": "code",
   "source": "print(final_response)",
   "id": "80b8e55242fa30fd",
   "outputs": [],
   "execution_count": null
  }
 ],
 "metadata": {
  "kernelspec": {
   "display_name": "Python 3",
   "language": "python",
   "name": "python3"
  },
  "language_info": {
   "codemirror_mode": {
    "name": "ipython",
    "version": 2
   },
   "file_extension": ".py",
   "mimetype": "text/x-python",
   "name": "python",
   "nbconvert_exporter": "python",
   "pygments_lexer": "ipython2",
   "version": "2.7.6"
  }
 },
 "nbformat": 4,
 "nbformat_minor": 5
}
