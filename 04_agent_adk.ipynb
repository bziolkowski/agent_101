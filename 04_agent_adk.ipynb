{
 "cells": [
  {
   "cell_type": "code",
   "id": "initial_id",
   "metadata": {
    "collapsed": true,
    "ExecuteTime": {
     "end_time": "2025-10-24T06:02:48.804205Z",
     "start_time": "2025-10-24T06:02:44.710824Z"
    }
   },
   "source": [
    "from dotenv import load_dotenv\n",
    "from google.adk.agents import LlmAgent\n",
    "from google.adk.models.lite_llm import LiteLlm\n",
    "from google.adk.runners import Runner\n",
    "from google.adk.sessions import InMemorySessionService\n",
    "from google.adk.tools.mcp_tool.mcp_toolset import McpToolset, StdioConnectionParams, StdioServerParameters\n",
    "from google.genai import types\n",
    "\n",
    "load_dotenv()"
   ],
   "outputs": [
    {
     "data": {
      "text/plain": [
       "True"
      ]
     },
     "execution_count": 1,
     "metadata": {},
     "output_type": "execute_result"
    }
   ],
   "execution_count": 1
  },
  {
   "metadata": {
    "ExecuteTime": {
     "end_time": "2025-10-24T06:02:49.799969Z",
     "start_time": "2025-10-24T06:02:48.809163Z"
    }
   },
   "cell_type": "code",
   "source": [
    "mcp_toolset = McpToolset(\n",
    "    connection_params=StdioConnectionParams(\n",
    "        server_params=StdioServerParameters(\n",
    "            command='python3',\n",
    "            args=['02_agent_mcp_server.py'],\n",
    "        )\n",
    "    ),\n",
    ")\n",
    "tools = await mcp_toolset.get_tools()"
   ],
   "id": "a134f6aa2b4a5d13",
   "outputs": [
    {
     "name": "stderr",
     "output_type": "stream",
     "text": [
      "/home/user/projects/agent_101/venv/lib/python3.11/site-packages/google/adk/tools/mcp_tool/mcp_tool.py:88: UserWarning: [EXPERIMENTAL] BaseAuthenticatedTool: This feature is experimental and may change or be removed in future versions without notice. It may introduce breaking changes at any time.\n",
      "  super().__init__(\n",
      "auth_config or auth_config.auth_scheme is missing. Will skip authentication.Using FunctionTool instead if authentication is not required.\n",
      "auth_config or auth_config.auth_scheme is missing. Will skip authentication.Using FunctionTool instead if authentication is not required.\n"
     ]
    }
   ],
   "execution_count": 2
  },
  {
   "metadata": {
    "ExecuteTime": {
     "end_time": "2025-10-24T06:02:49.853902Z",
     "start_time": "2025-10-24T06:02:49.850117Z"
    }
   },
   "cell_type": "code",
   "source": [
    "APP_NAME = \"personal_assistant\"\n",
    "USER_ID = \"default_user\"\n",
    "SESSION_ID = \"session1234\"\n",
    "\n",
    "session_service = InMemorySessionService()\n",
    "await session_service.create_session(\n",
    "    app_name=APP_NAME,\n",
    "    user_id=USER_ID,\n",
    "    session_id=SESSION_ID\n",
    ")"
   ],
   "id": "d50594b8c367aba7",
   "outputs": [
    {
     "data": {
      "text/plain": [
       "Session(id='session1234', app_name='personal_assistant', user_id='default_user', state={}, events=[], last_update_time=1761285769.8514543)"
      ]
     },
     "execution_count": 3,
     "metadata": {},
     "output_type": "execute_result"
    }
   ],
   "execution_count": 3
  },
  {
   "metadata": {
    "ExecuteTime": {
     "end_time": "2025-10-24T06:02:49.909875Z",
     "start_time": "2025-10-24T06:02:49.904063Z"
    }
   },
   "cell_type": "code",
   "source": [
    "runner = Runner(\n",
    "    agent=LlmAgent(\n",
    "        model=LiteLlm(model='eu.anthropic.claude-sonnet-4-5-20250929-v1:0'),\n",
    "        name=\"claude_assistant\",\n",
    "        instruction=\"\"\"You are an assistant that responds to user question based on the tools used. Respond politely to user's question using the output from the tools. Use Celsius scale. If the tools output is empty, then always respond with \"I don't know\". Use only information from the tools output to answer the question.\"\"\",\n",
    "        tools=tools\n",
    "    ),\n",
    "    app_name=APP_NAME,\n",
    "    session_service=session_service\n",
    ")"
   ],
   "id": "f0525105ae042521",
   "outputs": [],
   "execution_count": 4
  },
  {
   "metadata": {
    "ExecuteTime": {
     "end_time": "2025-10-24T06:02:49.961773Z",
     "start_time": "2025-10-24T06:02:49.958081Z"
    }
   },
   "cell_type": "code",
   "source": [
    "user_message = \"What's the weather in Warsaw? Is there anything interesting about this city?\"\n",
    "content = types.Content(role='user', parts=[types.Part(text=user_message)])"
   ],
   "id": "d27de7882307249b",
   "outputs": [],
   "execution_count": 5
  },
  {
   "metadata": {
    "ExecuteTime": {
     "end_time": "2025-10-24T06:03:07.537233Z",
     "start_time": "2025-10-24T06:02:50.007391Z"
    }
   },
   "cell_type": "code",
   "source": [
    "events = runner.run_async(user_id=USER_ID, session_id=SESSION_ID, new_message=content)\n",
    "response = [event.content.parts[0].text.strip() async for event in events if event.is_final_response() and event.content][-1]"
   ],
   "id": "68c65f1d3366c8ef",
   "outputs": [],
   "execution_count": 6
  },
  {
   "metadata": {
    "ExecuteTime": {
     "end_time": "2025-10-24T06:03:07.594612Z",
     "start_time": "2025-10-24T06:03:07.591449Z"
    }
   },
   "cell_type": "code",
   "source": "print(response)",
   "id": "afaf86bef5ff0c0f",
   "outputs": [
    {
     "name": "stdout",
     "output_type": "stream",
     "text": [
      "Based on the weather data and information from Wikipedia, here's what I can tell you about Warsaw:\n",
      "\n",
      "## Current Weather in Warsaw:\n",
      "The current temperature is **12.1°C** with moderate winds at 19.4 km/h coming from the west-northwest. The weather code indicates overcast conditions (cloudy weather).\n",
      "\n",
      "## Interesting Facts About Warsaw:\n",
      "\n",
      "**Historical Significance:**\n",
      "- Warsaw is the capital and largest city of Poland with a population of 1.86 million residents\n",
      "- The city has a dramatic history - about 85% of it was destroyed during World War II, particularly during the Warsaw Uprising in 1944\n",
      "- Warsaw's Old Town was meticulously reconstructed after the war and was designated a UNESCO World Heritage Site in 1980\n",
      "\n",
      "**Nicknames:**\n",
      "- Known as the \"Phoenix City\" because it rose from the ashes after WWII\n",
      "- Also called \"Paris of the North\" due to its elegant architecture\n",
      "\n",
      "**Modern City:**\n",
      "- It's home to the Varso Tower, the tallest building in the European Union\n",
      "- Warsaw is a major economic hub with the largest stock exchange in Central and Eastern Europe\n",
      "- It's classified as an \"alpha\" global city\n",
      "\n",
      "**Green Capital:**\n",
      "- Almost a quarter of the city's area is covered by parks and green spaces\n",
      "- Warsaw is Europe's sixth driest major city\n",
      "\n",
      "**Cultural Heritage:**\n",
      "- The city is strongly associated with composer Frédéric Chopin - his heart is preserved in the Holy Cross Church\n",
      "- Marie Curie was born here\n",
      "- The city symbol is a mermaid, which appears on its coat of arms\n"
     ]
    }
   ],
   "execution_count": 7
  }
 ],
 "metadata": {
  "kernelspec": {
   "display_name": "Python 3",
   "language": "python",
   "name": "python3"
  },
  "language_info": {
   "codemirror_mode": {
    "name": "ipython",
    "version": 2
   },
   "file_extension": ".py",
   "mimetype": "text/x-python",
   "name": "python",
   "nbconvert_exporter": "python",
   "pygments_lexer": "ipython2",
   "version": "2.7.6"
  }
 },
 "nbformat": 4,
 "nbformat_minor": 5
}
