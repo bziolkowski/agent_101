{
 "cells": [
  {
   "cell_type": "code",
   "id": "initial_id",
   "metadata": {
    "collapsed": true,
    "ExecuteTime": {
     "end_time": "2025-10-24T06:01:34.798161Z",
     "start_time": "2025-10-24T06:01:34.731133Z"
    }
   },
   "source": [
    "import json\n",
    "import os\n",
    "\n",
    "import boto3\n",
    "import requests\n",
    "from botocore.auth import SigV4Auth\n",
    "from botocore.awsrequest import AWSRequest\n",
    "from dotenv import load_dotenv\n",
    "from rich.pretty import pprint\n",
    "\n",
    "load_dotenv()"
   ],
   "outputs": [
    {
     "data": {
      "text/plain": [
       "True"
      ]
     },
     "execution_count": 1,
     "metadata": {},
     "output_type": "execute_result"
    }
   ],
   "execution_count": 1
  },
  {
   "metadata": {},
   "cell_type": "markdown",
   "source": "### Let's define the tools",
   "id": "94ff809ff848ae20"
  },
  {
   "metadata": {
    "ExecuteTime": {
     "end_time": "2025-10-24T06:01:34.804314Z",
     "start_time": "2025-10-24T06:01:34.802064Z"
    }
   },
   "cell_type": "code",
   "source": [
    "check_weather_tool = {\n",
    "    \"name\": \"get_weather\",\n",
    "    \"description\": \"Get the current weather in a given location\",\n",
    "    \"input_schema\": {\n",
    "        \"type\": \"object\",\n",
    "        \"properties\": {\n",
    "            \"latitude\": {\n",
    "                \"type\": \"string\",\n",
    "                \"description\": \"latitude of the location for which to get the weather\",\n",
    "            },\n",
    "            \"longitude\": {\n",
    "                \"type\": \"string\",\n",
    "                \"description\": \"longitude of the location for which to get the weather\",\n",
    "            },\n",
    "        },\n",
    "        \"required\": [\"latitude\", \"longitude\"],\n",
    "    },\n",
    "}\n",
    "\n",
    "tools = [check_weather_tool]"
   ],
   "id": "a134f6aa2b4a5d13",
   "outputs": [],
   "execution_count": 2
  },
  {
   "metadata": {},
   "cell_type": "markdown",
   "source": "### Let's make the first LLM call to decide which tool to use and with what parameters",
   "id": "cecd1cb0863f065"
  },
  {
   "metadata": {
    "ExecuteTime": {
     "end_time": "2025-10-24T06:01:38.344398Z",
     "start_time": "2025-10-24T06:01:34.848335Z"
    }
   },
   "cell_type": "code",
   "source": [
    "region = os.getenv(\"AWS_REGION\", \"eu-central-1\")\n",
    "url = f\"https://bedrock-runtime.{region}.amazonaws.com/model/eu.anthropic.claude-sonnet-4-5-20250929-v1:0/invoke\"\n",
    "\n",
    "llm_headers = {\n",
    "    \"Content-Type\": \"application/json\",\n",
    "}\n",
    "session = boto3.Session()\n",
    "credentials = session.get_credentials()\n",
    "\n",
    "payload = {\n",
    "    \"anthropic_version\": \"bedrock-2023-05-31\",\n",
    "    \"max_tokens\": 300,\n",
    "    \"tools\": tools,\n",
    "    \"tool_choice\": {\"type\": \"auto\"},\n",
    "    \"messages\": [\n",
    "        {\n",
    "            \"role\": \"user\",\n",
    "            \"content\": \"What's the weather in Warsaw? Is there anything interesting about this city?\",\n",
    "        }\n",
    "    ]\n",
    "}\n",
    "\n",
    "request = AWSRequest(method='POST', url=url, data=json.dumps(payload), headers=llm_headers)\n",
    "SigV4Auth(credentials, \"bedrock\", region).add_auth(request)\n",
    "\n",
    "resp = requests.post(url, headers=dict(request.headers), data=json.dumps(payload))\n",
    "response_content = resp.json().get(\"content\", [])\n",
    "resp.json()"
   ],
   "id": "f6785294e3533df9",
   "outputs": [
    {
     "data": {
      "text/plain": [
       "{'model': 'claude-sonnet-4-5-20250929',\n",
       " 'id': 'msg_bdrk_01RNkQ8wmw7JgogM9v9oaApg',\n",
       " 'type': 'message',\n",
       " 'role': 'assistant',\n",
       " 'content': [{'type': 'text',\n",
       "   'text': \"I'll help you get the weather for Warsaw and share some interesting facts about the city!\"},\n",
       "  {'type': 'tool_use',\n",
       "   'id': 'toolu_bdrk_01QUWmmD9kEJDr5V9SiDWP5V',\n",
       "   'name': 'get_weather',\n",
       "   'input': {'latitude': '52.2297', 'longitude': '21.0122'}}],\n",
       " 'stop_reason': 'tool_use',\n",
       " 'stop_sequence': None,\n",
       " 'usage': {'input_tokens': 617,\n",
       "  'cache_creation_input_tokens': 0,\n",
       "  'cache_read_input_tokens': 0,\n",
       "  'output_tokens': 95}}"
      ]
     },
     "execution_count": 3,
     "metadata": {},
     "output_type": "execute_result"
    }
   ],
   "execution_count": 3
  },
  {
   "metadata": {},
   "cell_type": "markdown",
   "source": "### Now let's process the output from the tool use step",
   "id": "fa07bf2c053185ad"
  },
  {
   "metadata": {
    "ExecuteTime": {
     "end_time": "2025-10-24T06:01:38.404589Z",
     "start_time": "2025-10-24T06:01:38.400150Z"
    }
   },
   "cell_type": "code",
   "source": [
    "# Extracting tools\n",
    "tools = [block for block in response_content if block.get(\"type\") == \"tool_use\"]"
   ],
   "id": "71e103c7db1fcda9",
   "outputs": [],
   "execution_count": 4
  },
  {
   "metadata": {},
   "cell_type": "code",
   "source": [
    "# Use tools\n",
    "for tool in tools:\n",
    "    if tool[\"name\"] == \"get_weather\":\n",
    "        latitude = tool[\"input\"][\"latitude\"]\n",
    "        longitude = tool[\"input\"][\"longitude\"]\n",
    "        weather_tool_response = requests.get(\n",
    "            url=\"https://api.open-meteo.com/v1/forecast\",\n",
    "            params={\"latitude\": latitude, \"longitude\": longitude, \"current_weather\": True},\n",
    "            verify=False,\n",
    "            proxies={'http': '', 'https': ''},\n",
    "        )\n",
    "        weather_info = weather_tool_response.json()[\"current_weather\"]\n",
    "        tool[\"output\"] = weather_info\n",
    "    if tool[\"name\"] == \"facts_from_wikipedia\":\n",
    "        topic = tool[\"input\"][\"topic\"]\n",
    "        headers = {\n",
    "            'User-Agent': 'Agent101Bot/1.0 (Educational purpose only)',\n",
    "            'Accept': 'application/json'\n",
    "        }\n",
    "        wikipedia_response = requests.get(\n",
    "            url=f\"https://en.wikipedia.org/w/api.php?action=query&prop=revisions&titles={topic}&rvprop=content&format=json\",\n",
    "            headers=headers,\n",
    "            verify=False,\n",
    "            proxies={'http': '', 'https': ''},\n",
    "        )\n",
    "        wiki_info = wikipedia_response.json()\n",
    "        tool[\"output\"] = wiki_info"
   ],
   "id": "9145082cb221cf5",
   "outputs": [],
   "execution_count": null
  },
  {
   "metadata": {
    "ExecuteTime": {
     "end_time": "2025-10-24T06:01:51.789078Z",
     "start_time": "2025-10-24T06:01:51.785642Z"
    }
   },
   "cell_type": "code",
   "source": [
    "# Collecting outputs from all tools into a single string\n",
    "tool_outputs = \"\\n\".join([f\"Tool: {tool['name']}, Output: {tool.get('output', 'No output')}\" for tool in tools])\n",
    "tool_outputs"
   ],
   "id": "69d463b59cf37fb0",
   "outputs": [
    {
     "data": {
      "text/plain": [
       "\"Tool: get_weather, Output: {'time': '2025-10-24T06:00', 'interval': 900, 'temperature': 12.1, 'windspeed': 19.4, 'winddirection': 294, 'is_day': 1, 'weathercode': 3}\""
      ]
     },
     "execution_count": 7,
     "metadata": {},
     "output_type": "execute_result"
    }
   ],
   "execution_count": 7
  },
  {
   "metadata": {},
   "cell_type": "code",
   "outputs": [],
   "execution_count": null,
   "source": "",
   "id": "9d29825eeaaa4daf"
  }
 ],
 "metadata": {
  "kernelspec": {
   "display_name": "Python 3",
   "language": "python",
   "name": "python3"
  },
  "language_info": {
   "codemirror_mode": {
    "name": "ipython",
    "version": 2
   },
   "file_extension": ".py",
   "mimetype": "text/x-python",
   "name": "python",
   "nbconvert_exporter": "python",
   "pygments_lexer": "ipython2",
   "version": "2.7.6"
  }
 },
 "nbformat": 4,
 "nbformat_minor": 5
}
