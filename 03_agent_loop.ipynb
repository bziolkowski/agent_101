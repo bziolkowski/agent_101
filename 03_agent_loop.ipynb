{
 "cells": [
  {
   "cell_type": "code",
   "id": "initial_id",
   "metadata": {
    "collapsed": true,
    "ExecuteTime": {
     "end_time": "2025-10-24T06:02:19.437256Z",
     "start_time": "2025-10-24T06:02:18.392967Z"
    }
   },
   "source": [
    "import copy\n",
    "import json\n",
    "import os\n",
    "\n",
    "import boto3\n",
    "import requests\n",
    "from botocore.auth import SigV4Auth\n",
    "from botocore.awsrequest import AWSRequest\n",
    "from dotenv import load_dotenv\n",
    "from fastmcp import Client\n",
    "from rich.pretty import pprint\n",
    "\n",
    "load_dotenv()"
   ],
   "outputs": [
    {
     "data": {
      "text/plain": [
       "True"
      ]
     },
     "execution_count": 1,
     "metadata": {},
     "output_type": "execute_result"
    }
   ],
   "execution_count": 1
  },
  {
   "metadata": {},
   "cell_type": "markdown",
   "source": [
    "### Let's implement and test the simplest flow\n",
    "1. User asks a question\n",
    "2. Agent decides which tool to use\n",
    "3. Agent uses the tool\n",
    "4. Agent returns the answer to the user"
   ],
   "id": "4be8a21a8bce4b75"
  },
  {
   "metadata": {},
   "cell_type": "markdown",
   "source": "### Let's define the tools",
   "id": "94ff809ff848ae20"
  },
  {
   "metadata": {
    "ExecuteTime": {
     "end_time": "2025-10-24T06:02:20.408708Z",
     "start_time": "2025-10-24T06:02:19.443317Z"
    }
   },
   "cell_type": "code",
   "source": [
    "mcp_client = Client(\"02_agent_mcp_server.py\")\n",
    "await mcp_client._connect()\n",
    "\n",
    "mcp_tools = await mcp_client.list_tools()\n",
    "\n",
    "tools = [\n",
    "        {\n",
    "            \"name\": tool.name,\n",
    "            \"description\": tool.description,\n",
    "            \"input_schema\": getattr(tool, 'inputSchema', {\"type\": \"object\", \"properties\": {}}),\n",
    "        }\n",
    "        for tool in mcp_tools\n",
    "    ]\n",
    "# pprint(mcp_tools, expand_all=True)\n",
    "pprint(tools, expand_all=True)"
   ],
   "id": "a134f6aa2b4a5d13",
   "outputs": [
    {
     "data": {
      "text/plain": [
       "\u001B[1m[\u001B[0m\n",
       "\u001B[2;32m│   \u001B[0m\u001B[1m{\u001B[0m\n",
       "\u001B[2;32m│   │   \u001B[0m\u001B[32m'name'\u001B[0m: \u001B[32m'get_weather'\u001B[0m,\n",
       "\u001B[2;32m│   │   \u001B[0m\u001B[32m'description'\u001B[0m: \u001B[32m'Get the current weather in a given location\\n\\nArgs:\\n    latitude: Latitude of the location for which to get the weather\\n    longitude: Longitude of the location for which to get the weather\\n\\nReturns:\\n    JSON with current weather information'\u001B[0m,\n",
       "\u001B[2;32m│   │   \u001B[0m\u001B[32m'input_schema'\u001B[0m: \u001B[1m{\u001B[0m\n",
       "\u001B[2;32m│   │   │   \u001B[0m\u001B[32m'properties'\u001B[0m: \u001B[1m{\u001B[0m\n",
       "\u001B[2;32m│   │   │   │   \u001B[0m\u001B[32m'latitude'\u001B[0m: \u001B[1m{\u001B[0m\n",
       "\u001B[2;32m│   │   │   │   │   \u001B[0m\u001B[32m'type'\u001B[0m: \u001B[32m'string'\u001B[0m\n",
       "\u001B[2;32m│   │   │   │   \u001B[0m\u001B[1m}\u001B[0m,\n",
       "\u001B[2;32m│   │   │   │   \u001B[0m\u001B[32m'longitude'\u001B[0m: \u001B[1m{\u001B[0m\n",
       "\u001B[2;32m│   │   │   │   │   \u001B[0m\u001B[32m'type'\u001B[0m: \u001B[32m'string'\u001B[0m\n",
       "\u001B[2;32m│   │   │   │   \u001B[0m\u001B[1m}\u001B[0m\n",
       "\u001B[2;32m│   │   │   \u001B[0m\u001B[1m}\u001B[0m,\n",
       "\u001B[2;32m│   │   │   \u001B[0m\u001B[32m'required'\u001B[0m: \u001B[1m[\u001B[0m\n",
       "\u001B[2;32m│   │   │   │   \u001B[0m\u001B[32m'latitude'\u001B[0m,\n",
       "\u001B[2;32m│   │   │   │   \u001B[0m\u001B[32m'longitude'\u001B[0m\n",
       "\u001B[2;32m│   │   │   \u001B[0m\u001B[1m]\u001B[0m,\n",
       "\u001B[2;32m│   │   │   \u001B[0m\u001B[32m'type'\u001B[0m: \u001B[32m'object'\u001B[0m\n",
       "\u001B[2;32m│   │   \u001B[0m\u001B[1m}\u001B[0m\n",
       "\u001B[2;32m│   \u001B[0m\u001B[1m}\u001B[0m,\n",
       "\u001B[2;32m│   \u001B[0m\u001B[1m{\u001B[0m\n",
       "\u001B[2;32m│   │   \u001B[0m\u001B[32m'name'\u001B[0m: \u001B[32m'facts_from_wikipedia'\u001B[0m,\n",
       "\u001B[2;32m│   │   \u001B[0m\u001B[32m'description'\u001B[0m: \u001B[32m'Get Wikipedia facts about a given topic, location, person etc.\\n\\nArgs:\\n    topic: A topic, location, person etc. to search for on Wikipedia\\n\\nReturns:\\n    JSON with Wikipedia information'\u001B[0m,\n",
       "\u001B[2;32m│   │   \u001B[0m\u001B[32m'input_schema'\u001B[0m: \u001B[1m{\u001B[0m\n",
       "\u001B[2;32m│   │   │   \u001B[0m\u001B[32m'properties'\u001B[0m: \u001B[1m{\u001B[0m\n",
       "\u001B[2;32m│   │   │   │   \u001B[0m\u001B[32m'topic'\u001B[0m: \u001B[1m{\u001B[0m\n",
       "\u001B[2;32m│   │   │   │   │   \u001B[0m\u001B[32m'type'\u001B[0m: \u001B[32m'string'\u001B[0m\n",
       "\u001B[2;32m│   │   │   │   \u001B[0m\u001B[1m}\u001B[0m\n",
       "\u001B[2;32m│   │   │   \u001B[0m\u001B[1m}\u001B[0m,\n",
       "\u001B[2;32m│   │   │   \u001B[0m\u001B[32m'required'\u001B[0m: \u001B[1m[\u001B[0m\n",
       "\u001B[2;32m│   │   │   │   \u001B[0m\u001B[32m'topic'\u001B[0m\n",
       "\u001B[2;32m│   │   │   \u001B[0m\u001B[1m]\u001B[0m,\n",
       "\u001B[2;32m│   │   │   \u001B[0m\u001B[32m'type'\u001B[0m: \u001B[32m'object'\u001B[0m\n",
       "\u001B[2;32m│   │   \u001B[0m\u001B[1m}\u001B[0m\n",
       "\u001B[2;32m│   \u001B[0m\u001B[1m}\u001B[0m\n",
       "\u001B[1m]\u001B[0m\n"
      ],
      "text/html": [
       "<pre style=\"white-space:pre;overflow-x:auto;line-height:normal;font-family:Menlo,'DejaVu Sans Mono',consolas,'Courier New',monospace\"><span style=\"font-weight: bold\">[</span>\n",
       "<span style=\"color: #7fbf7f; text-decoration-color: #7fbf7f\">│   </span><span style=\"font-weight: bold\">{</span>\n",
       "<span style=\"color: #7fbf7f; text-decoration-color: #7fbf7f\">│   │   </span><span style=\"color: #008000; text-decoration-color: #008000\">'name'</span>: <span style=\"color: #008000; text-decoration-color: #008000\">'get_weather'</span>,\n",
       "<span style=\"color: #7fbf7f; text-decoration-color: #7fbf7f\">│   │   </span><span style=\"color: #008000; text-decoration-color: #008000\">'description'</span>: <span style=\"color: #008000; text-decoration-color: #008000\">'Get the current weather in a given location\\n\\nArgs:\\n    latitude: Latitude of the location for which to get the weather\\n    longitude: Longitude of the location for which to get the weather\\n\\nReturns:\\n    JSON with current weather information'</span>,\n",
       "<span style=\"color: #7fbf7f; text-decoration-color: #7fbf7f\">│   │   </span><span style=\"color: #008000; text-decoration-color: #008000\">'input_schema'</span>: <span style=\"font-weight: bold\">{</span>\n",
       "<span style=\"color: #7fbf7f; text-decoration-color: #7fbf7f\">│   │   │   </span><span style=\"color: #008000; text-decoration-color: #008000\">'properties'</span>: <span style=\"font-weight: bold\">{</span>\n",
       "<span style=\"color: #7fbf7f; text-decoration-color: #7fbf7f\">│   │   │   │   </span><span style=\"color: #008000; text-decoration-color: #008000\">'latitude'</span>: <span style=\"font-weight: bold\">{</span>\n",
       "<span style=\"color: #7fbf7f; text-decoration-color: #7fbf7f\">│   │   │   │   │   </span><span style=\"color: #008000; text-decoration-color: #008000\">'type'</span>: <span style=\"color: #008000; text-decoration-color: #008000\">'string'</span>\n",
       "<span style=\"color: #7fbf7f; text-decoration-color: #7fbf7f\">│   │   │   │   </span><span style=\"font-weight: bold\">}</span>,\n",
       "<span style=\"color: #7fbf7f; text-decoration-color: #7fbf7f\">│   │   │   │   </span><span style=\"color: #008000; text-decoration-color: #008000\">'longitude'</span>: <span style=\"font-weight: bold\">{</span>\n",
       "<span style=\"color: #7fbf7f; text-decoration-color: #7fbf7f\">│   │   │   │   │   </span><span style=\"color: #008000; text-decoration-color: #008000\">'type'</span>: <span style=\"color: #008000; text-decoration-color: #008000\">'string'</span>\n",
       "<span style=\"color: #7fbf7f; text-decoration-color: #7fbf7f\">│   │   │   │   </span><span style=\"font-weight: bold\">}</span>\n",
       "<span style=\"color: #7fbf7f; text-decoration-color: #7fbf7f\">│   │   │   </span><span style=\"font-weight: bold\">}</span>,\n",
       "<span style=\"color: #7fbf7f; text-decoration-color: #7fbf7f\">│   │   │   </span><span style=\"color: #008000; text-decoration-color: #008000\">'required'</span>: <span style=\"font-weight: bold\">[</span>\n",
       "<span style=\"color: #7fbf7f; text-decoration-color: #7fbf7f\">│   │   │   │   </span><span style=\"color: #008000; text-decoration-color: #008000\">'latitude'</span>,\n",
       "<span style=\"color: #7fbf7f; text-decoration-color: #7fbf7f\">│   │   │   │   </span><span style=\"color: #008000; text-decoration-color: #008000\">'longitude'</span>\n",
       "<span style=\"color: #7fbf7f; text-decoration-color: #7fbf7f\">│   │   │   </span><span style=\"font-weight: bold\">]</span>,\n",
       "<span style=\"color: #7fbf7f; text-decoration-color: #7fbf7f\">│   │   │   </span><span style=\"color: #008000; text-decoration-color: #008000\">'type'</span>: <span style=\"color: #008000; text-decoration-color: #008000\">'object'</span>\n",
       "<span style=\"color: #7fbf7f; text-decoration-color: #7fbf7f\">│   │   </span><span style=\"font-weight: bold\">}</span>\n",
       "<span style=\"color: #7fbf7f; text-decoration-color: #7fbf7f\">│   </span><span style=\"font-weight: bold\">}</span>,\n",
       "<span style=\"color: #7fbf7f; text-decoration-color: #7fbf7f\">│   </span><span style=\"font-weight: bold\">{</span>\n",
       "<span style=\"color: #7fbf7f; text-decoration-color: #7fbf7f\">│   │   </span><span style=\"color: #008000; text-decoration-color: #008000\">'name'</span>: <span style=\"color: #008000; text-decoration-color: #008000\">'facts_from_wikipedia'</span>,\n",
       "<span style=\"color: #7fbf7f; text-decoration-color: #7fbf7f\">│   │   </span><span style=\"color: #008000; text-decoration-color: #008000\">'description'</span>: <span style=\"color: #008000; text-decoration-color: #008000\">'Get Wikipedia facts about a given topic, location, person etc.\\n\\nArgs:\\n    topic: A topic, location, person etc. to search for on Wikipedia\\n\\nReturns:\\n    JSON with Wikipedia information'</span>,\n",
       "<span style=\"color: #7fbf7f; text-decoration-color: #7fbf7f\">│   │   </span><span style=\"color: #008000; text-decoration-color: #008000\">'input_schema'</span>: <span style=\"font-weight: bold\">{</span>\n",
       "<span style=\"color: #7fbf7f; text-decoration-color: #7fbf7f\">│   │   │   </span><span style=\"color: #008000; text-decoration-color: #008000\">'properties'</span>: <span style=\"font-weight: bold\">{</span>\n",
       "<span style=\"color: #7fbf7f; text-decoration-color: #7fbf7f\">│   │   │   │   </span><span style=\"color: #008000; text-decoration-color: #008000\">'topic'</span>: <span style=\"font-weight: bold\">{</span>\n",
       "<span style=\"color: #7fbf7f; text-decoration-color: #7fbf7f\">│   │   │   │   │   </span><span style=\"color: #008000; text-decoration-color: #008000\">'type'</span>: <span style=\"color: #008000; text-decoration-color: #008000\">'string'</span>\n",
       "<span style=\"color: #7fbf7f; text-decoration-color: #7fbf7f\">│   │   │   │   </span><span style=\"font-weight: bold\">}</span>\n",
       "<span style=\"color: #7fbf7f; text-decoration-color: #7fbf7f\">│   │   │   </span><span style=\"font-weight: bold\">}</span>,\n",
       "<span style=\"color: #7fbf7f; text-decoration-color: #7fbf7f\">│   │   │   </span><span style=\"color: #008000; text-decoration-color: #008000\">'required'</span>: <span style=\"font-weight: bold\">[</span>\n",
       "<span style=\"color: #7fbf7f; text-decoration-color: #7fbf7f\">│   │   │   │   </span><span style=\"color: #008000; text-decoration-color: #008000\">'topic'</span>\n",
       "<span style=\"color: #7fbf7f; text-decoration-color: #7fbf7f\">│   │   │   </span><span style=\"font-weight: bold\">]</span>,\n",
       "<span style=\"color: #7fbf7f; text-decoration-color: #7fbf7f\">│   │   │   </span><span style=\"color: #008000; text-decoration-color: #008000\">'type'</span>: <span style=\"color: #008000; text-decoration-color: #008000\">'object'</span>\n",
       "<span style=\"color: #7fbf7f; text-decoration-color: #7fbf7f\">│   │   </span><span style=\"font-weight: bold\">}</span>\n",
       "<span style=\"color: #7fbf7f; text-decoration-color: #7fbf7f\">│   </span><span style=\"font-weight: bold\">}</span>\n",
       "<span style=\"font-weight: bold\">]</span>\n",
       "</pre>\n"
      ]
     },
     "metadata": {},
     "output_type": "display_data",
     "jetTransient": {
      "display_id": null
     }
    }
   ],
   "execution_count": 2
  },
  {
   "metadata": {},
   "cell_type": "markdown",
   "source": "### Let's define the user's message",
   "id": "da026a593180a047"
  },
  {
   "metadata": {
    "ExecuteTime": {
     "end_time": "2025-10-24T06:02:20.468893Z",
     "start_time": "2025-10-24T06:02:20.464950Z"
    }
   },
   "cell_type": "code",
   "source": "user_message = \"What's the weather in Warsaw? Is there anything interesting about this city?\"",
   "id": "d27de7882307249b",
   "outputs": [],
   "execution_count": 3
  },
  {
   "metadata": {},
   "cell_type": "markdown",
   "source": "### Let's make the first LLM call to decide which tool to use and with what parameters",
   "id": "cecd1cb0863f065"
  },
  {
   "metadata": {
    "ExecuteTime": {
     "end_time": "2025-10-24T06:02:20.534617Z",
     "start_time": "2025-10-24T06:02:20.518774Z"
    }
   },
   "cell_type": "code",
   "source": [
    "session = boto3.Session()\n",
    "credentials = session.get_credentials()\n",
    "\n",
    "def llm_call(messages: list[dict]) -> dict:\n",
    "    region = os.getenv(\"AWS_REGION\", \"eu-central-1\")\n",
    "    url = f\"https://bedrock-runtime.{region}.amazonaws.com/model/eu.anthropic.claude-sonnet-4-5-20250929-v1:0/invoke\"\n",
    "\n",
    "    llm_headers = {\n",
    "        \"Content-Type\": \"application/json\",\n",
    "    }\n",
    "    payload = {\n",
    "        \"anthropic_version\": \"bedrock-2023-05-31\",\n",
    "        \"max_tokens\": 300,\n",
    "        \"tools\": tools,\n",
    "        \"tool_choice\": {\"type\": \"auto\"},\n",
    "        \"system\": \"\"\"You are an assistant that responds to user question based on the tools used. Respond politely to user's question using the output from the tools. Use Celsius scale. If the tools output is empty, then always respond with \"I don't know\". Use only information from the tools output to answer the question.\"\"\",\n",
    "        \"messages\": messages,\n",
    "    }\n",
    "    print_llm_call(messages)\n",
    "    request = AWSRequest(method='POST', url=url, data=json.dumps(payload), headers=llm_headers)\n",
    "    SigV4Auth(credentials, \"bedrock\", region).add_auth(request)\n",
    "    resp = requests.post(url, headers=dict(request.headers), data=json.dumps(payload))\n",
    "    return resp.json()"
   ],
   "id": "c4c1b7202499963d",
   "outputs": [],
   "execution_count": 4
  },
  {
   "metadata": {
    "ExecuteTime": {
     "end_time": "2025-10-24T06:02:20.579518Z",
     "start_time": "2025-10-24T06:02:20.573716Z"
    }
   },
   "cell_type": "code",
   "source": [
    "def print_llm_call(messages: list[dict]) -> None:\n",
    "    messages_copy = copy.deepcopy(messages)\n",
    "    # trim too long content from output of tools\n",
    "    MAX_TOOL_RESULT_LEN = 1000\n",
    "    for msg in messages_copy:\n",
    "        if msg.get(\"role\") == \"user\" and isinstance(msg.get(\"content\"), list):\n",
    "            for item in msg[\"content\"]:\n",
    "                if isinstance(item, dict) and item.get(\"type\") == \"tool_result\":\n",
    "                    content = item.get(\"content\", \"\")\n",
    "                    if isinstance(content, str) and len(content) > MAX_TOOL_RESULT_LEN:\n",
    "                        item[\"content\"] = content[:MAX_TOOL_RESULT_LEN] + \"...[truncated]\"\n",
    "    print(f\"> LLM Call: {json.dumps(messages_copy, indent=2)}\")"
   ],
   "id": "82831a6b592c3951",
   "outputs": [],
   "execution_count": 5
  },
  {
   "metadata": {
    "ExecuteTime": {
     "end_time": "2025-10-24T06:02:25.109810Z",
     "start_time": "2025-10-24T06:02:20.632555Z"
    }
   },
   "cell_type": "code",
   "source": "llm_call([{\"role\": \"user\", \"content\": \"use weather tool for warsaw\", }])",
   "id": "a201e3bd796b5766",
   "outputs": [
    {
     "name": "stdout",
     "output_type": "stream",
     "text": [
      "> LLM Call: [\n",
      "  {\n",
      "    \"role\": \"user\",\n",
      "    \"content\": \"use weather tool for warsaw\"\n",
      "  }\n",
      "]\n"
     ]
    },
    {
     "data": {
      "text/plain": [
       "{'model': 'claude-sonnet-4-5-20250929',\n",
       " 'id': 'msg_bdrk_011Z3Hqq6zBccQ8YyHYawiEi',\n",
       " 'type': 'message',\n",
       " 'role': 'assistant',\n",
       " 'content': [{'type': 'text',\n",
       "   'text': \"I'll get the weather information for Warsaw. Let me look up Warsaw's coordinates first, then get the weather data.\"},\n",
       "  {'type': 'tool_use',\n",
       "   'id': 'toolu_bdrk_014bNn5QKbU3GYxUYtmZmLPi',\n",
       "   'name': 'get_weather',\n",
       "   'input': {'latitude': '52.2297', 'longitude': '21.0122'}}],\n",
       " 'stop_reason': 'tool_use',\n",
       " 'stop_sequence': None,\n",
       " 'usage': {'input_tokens': 793,\n",
       "  'cache_creation_input_tokens': 0,\n",
       "  'cache_read_input_tokens': 0,\n",
       "  'output_tokens': 101}}"
      ]
     },
     "execution_count": 6,
     "metadata": {},
     "output_type": "execute_result"
    }
   ],
   "execution_count": 6
  },
  {
   "metadata": {
    "ExecuteTime": {
     "end_time": "2025-10-24T06:02:40.706156Z",
     "start_time": "2025-10-24T06:02:25.166298Z"
    }
   },
   "cell_type": "code",
   "source": [
    "messages = [{\"role\": \"user\", \"content\": user_message}]\n",
    "\n",
    "response = llm_call(messages)\n",
    "i = 1\n",
    "while response['stop_reason'] == \"tool_use\":\n",
    "    print(f\"---------------------\")\n",
    "    print(f\"Interation {i}\")\n",
    "    tool_results = []\n",
    "    assistant_content = []\n",
    "\n",
    "    for block in response['content']:\n",
    "        if block['type'] == \"text\":\n",
    "            assistant_content.append(block)\n",
    "        elif block['type'] == \"tool_use\":\n",
    "            print(f\"> Tool: {block['name']}\")\n",
    "            print(f\"  Input: {json.dumps(block['input'], indent=2)}\")\n",
    "\n",
    "            result = await mcp_client.call_tool(block['name'], block['input'])\n",
    "            if hasattr(result, 'content') and result.content:\n",
    "                result_str = result.content[0].text\n",
    "            else:\n",
    "                result_str = str(result)\n",
    "\n",
    "            assistant_content.append(block)\n",
    "            tool_results.append({\n",
    "                \"type\": \"tool_result\",\n",
    "                \"tool_use_id\": block['id'],\n",
    "                \"content\": result_str\n",
    "            })\n",
    "\n",
    "    messages.append({\"role\": \"assistant\", \"content\": assistant_content})\n",
    "    messages.append({\"role\": \"user\", \"content\": tool_results})\n",
    "\n",
    "    response = llm_call(messages)\n",
    "    i+=1\n",
    "\n",
    "final_response = \"\"\n",
    "for block in response['content']:\n",
    "    if block['type'] == \"text\":\n",
    "        final_response += block['text']\n",
    "\n",
    "print(f\"---------------------\")\n",
    "print(\"Final Response:\")\n",
    "print(final_response)"
   ],
   "id": "819f10c737806166",
   "outputs": [
    {
     "name": "stdout",
     "output_type": "stream",
     "text": [
      "> LLM Call: [\n",
      "  {\n",
      "    \"role\": \"user\",\n",
      "    \"content\": \"What's the weather in Warsaw? Is there anything interesting about this city?\"\n",
      "  }\n",
      "]\n",
      "---------------------\n",
      "Interation 1\n",
      "> Tool: get_weather\n",
      "  Input: {\n",
      "  \"latitude\": \"52.2297\",\n",
      "  \"longitude\": \"21.0122\"\n",
      "}\n",
      "> Tool: facts_from_wikipedia\n",
      "  Input: {\n",
      "  \"topic\": \"Warsaw\"\n",
      "}\n",
      "> LLM Call: [\n",
      "  {\n",
      "    \"role\": \"user\",\n",
      "    \"content\": \"What's the weather in Warsaw? Is there anything interesting about this city?\"\n",
      "  },\n",
      "  {\n",
      "    \"role\": \"assistant\",\n",
      "    \"content\": [\n",
      "      {\n",
      "        \"type\": \"text\",\n",
      "        \"text\": \"I'd be happy to help you with information about Warsaw! Let me get the current weather and some interesting facts about the city.\"\n",
      "      },\n",
      "      {\n",
      "        \"type\": \"tool_use\",\n",
      "        \"id\": \"toolu_bdrk_01Y8N8oC65CxvdAaJHq4WNEo\",\n",
      "        \"name\": \"get_weather\",\n",
      "        \"input\": {\n",
      "          \"latitude\": \"52.2297\",\n",
      "          \"longitude\": \"21.0122\"\n",
      "        }\n",
      "      },\n",
      "      {\n",
      "        \"type\": \"tool_use\",\n",
      "        \"id\": \"toolu_bdrk_01RfRgidQAYWLpmeBut8TP2e\",\n",
      "        \"name\": \"facts_from_wikipedia\",\n",
      "        \"input\": {\n",
      "          \"topic\": \"Warsaw\"\n",
      "        }\n",
      "      }\n",
      "    ]\n",
      "  },\n",
      "  {\n",
      "    \"role\": \"user\",\n",
      "    \"content\": [\n",
      "      {\n",
      "        \"type\": \"tool_result\",\n",
      "        \"tool_use_id\": \"toolu_bdrk_01Y8N8oC65CxvdAaJHq4WNEo\",\n",
      "        \"content\": \"{\\n  \\\"success\\\": true,\\n  \\\"location\\\": {\\n    \\\"latitude\\\": \\\"52.2297\\\",\\n    \\\"longitude\\\": \\\"21.0122\\\"\\n  },\\n  \\\"weather\\\": {\\n    \\\"time\\\": \\\"2025-10-24T06:00\\\",\\n    \\\"interval\\\": 900,\\n    \\\"temperature\\\": 12.1,\\n    \\\"windspeed\\\": 19.4,\\n    \\\"winddirection\\\": 294,\\n    \\\"is_day\\\": 1,\\n    \\\"weathercode\\\": 3\\n  }\\n}\"\n",
      "      },\n",
      "      {\n",
      "        \"type\": \"tool_result\",\n",
      "        \"tool_use_id\": \"toolu_bdrk_01RfRgidQAYWLpmeBut8TP2e\",\n",
      "        \"content\": \"{\\n  \\\"success\\\": true,\\n  \\\"topic\\\": \\\"Warsaw\\\",\\n  \\\"data\\\": {\\n    \\\"batchcomplete\\\": \\\"\\\",\\n    \\\"warnings\\\": {\\n      \\\"main\\\": {\\n        \\\"*\\\": \\\"Subscribe to the mediawiki-api-announce mailing list at <https://lists.wikimedia.org/postorius/lists/mediawiki-api-announce.lists.wikimedia.org/> for notice of API deprecations and breaking changes. Use [[Special:ApiFeatureUsage]] to see usage of deprecated features by your application.\\\"\\n      },\\n      \\\"revisions\\\": {\\n        \\\"*\\\": \\\"Because \\\\\\\"rvslots\\\\\\\" was not specified, a legacy format has been used for the output. This format is deprecated, and in the future the new format will always be used.\\\"\\n      }\\n    },\\n    \\\"query\\\": {\\n      \\\"pages\\\": {\\n        \\\"32908\\\": {\\n          \\\"pageid\\\": 32908,\\n          \\\"ns\\\": 0,\\n          \\\"title\\\": \\\"Warsaw\\\",\\n          \\\"revisions\\\": [\\n            {\\n              \\\"contentformat\\\": \\\"text/x-wiki\\\",\\n              \\\"contentmodel\\\": \\\"wikitext\\\",\\n              \\\"*\\\": \\\"{{Short description|Capital and largest city of Poland}}\\\\n{{Redirect-several|Warsaw|W...[truncated]\"\n",
      "      }\n",
      "    ]\n",
      "  }\n",
      "]\n",
      "---------------------\n",
      "Final Response:\n",
      "Based on the information retrieved, here's what I can tell you about Warsaw:\n",
      "\n",
      "**Current Weather:**\n",
      "The current temperature in Warsaw is **12.1°C** with moderate winds (19.4 km/h from the northwest). The weather code indicates cloudy conditions.\n",
      "\n",
      "**Interesting Facts About Warsaw:**\n",
      "\n",
      "1. **Capital and Largest City**: Warsaw is the capital and largest city of Poland, with a population of approximately 1.86 million residents within the city and over 3.27 million in the greater metropolitan area.\n",
      "\n",
      "2. **The Phoenix City**: Warsaw is nicknamed the \"Phoenix City\" because it was almost completely destroyed during World War II (about 85% of the city was razed) but was rebuilt from the ruins.\n",
      "\n",
      "3. **Historic Reconstruction**: The Old Town was meticulously reconstructed after WWII and is now a UNESCO World Heritage Site, representing one of the most remarkable examples of post-war reconstruction.\n",
      "\n",
      "4. **Mermaid Symbol**: The city's symbol is a mermaid (syrenka), which appears on its coat of arms and in statues throughout the city.\n",
      "\n",
      "5. **Cultural Heritage**: Warsaw is associated with famous figures like:\n",
      "   - **Frédéric Chopin** - the renowned composer who moved to Warsaw when he was seven months old\n",
      "   - **Marie Curie** (Maria Skłodow\n"
     ]
    }
   ],
   "execution_count": 7
  },
  {
   "metadata": {
    "ExecuteTime": {
     "end_time": "2025-10-24T06:02:40.768435Z",
     "start_time": "2025-10-24T06:02:40.765181Z"
    }
   },
   "cell_type": "code",
   "source": [
    "# Cleanup\n",
    "await mcp_client._disconnect()"
   ],
   "id": "b2563f419a9256fc",
   "outputs": [],
   "execution_count": 8
  }
 ],
 "metadata": {
  "kernelspec": {
   "display_name": "Python 3",
   "language": "python",
   "name": "python3"
  },
  "language_info": {
   "codemirror_mode": {
    "name": "ipython",
    "version": 2
   },
   "file_extension": ".py",
   "mimetype": "text/x-python",
   "name": "python",
   "nbconvert_exporter": "python",
   "pygments_lexer": "ipython2",
   "version": "2.7.6"
  }
 },
 "nbformat": 4,
 "nbformat_minor": 5
}
