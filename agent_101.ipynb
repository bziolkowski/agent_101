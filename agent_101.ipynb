{
 "cells": [
  {
   "cell_type": "code",
   "id": "initial_id",
   "metadata": {
    "collapsed": true,
    "ExecuteTime": {
     "end_time": "2025-10-14T18:42:10.621115Z",
     "start_time": "2025-10-14T18:42:10.552794Z"
    }
   },
   "source": [
    "import os\n",
    "import requests\n",
    "from dotenv import load_dotenv\n",
    "load_dotenv()"
   ],
   "outputs": [
    {
     "data": {
      "text/plain": [
       "True"
      ]
     },
     "execution_count": 1,
     "metadata": {},
     "output_type": "execute_result"
    }
   ],
   "execution_count": 1
  },
  {
   "metadata": {},
   "cell_type": "markdown",
   "source": [
    "### Let's implement and test the simplest flow\n",
    "1. User asks a question\n",
    "2. Agent decides which tool to use\n",
    "3. Agent uses the tool\n",
    "4. Agent returns the answer to the user"
   ],
   "id": "4be8a21a8bce4b75"
  },
  {
   "metadata": {},
   "cell_type": "markdown",
   "source": "### Let's define the tools",
   "id": "94ff809ff848ae20"
  },
  {
   "metadata": {
    "ExecuteTime": {
     "end_time": "2025-10-14T18:42:13.592379Z",
     "start_time": "2025-10-14T18:42:13.589568Z"
    }
   },
   "cell_type": "code",
   "source": [
    "check_weather_tool = {\n",
    "            \"name\": \"get_weather\",\n",
    "            \"description\": \"Get the current weather in a given location\",\n",
    "            \"input_schema\": {\n",
    "                \"type\": \"object\",\n",
    "                \"properties\": {\n",
    "                    \"latitude\": {\n",
    "                        \"type\": \"string\",\n",
    "                        \"description\": \"latitude of the location for which to get the weather\",\n",
    "                    },\n",
    "                    \"longitude\": {\n",
    "                        \"type\": \"string\",\n",
    "                        \"description\": \"longitude of the location for which to get the weather\",\n",
    "                    },\n",
    "                },\n",
    "                \"required\": [\"latitude\", \"longitude\"],\n",
    "            },\n",
    "        }\n",
    "\n",
    "tools = [check_weather_tool]"
   ],
   "id": "a134f6aa2b4a5d13",
   "outputs": [],
   "execution_count": 2
  },
  {
   "metadata": {},
   "cell_type": "markdown",
   "source": "### Let's define the user's message",
   "id": "a47cf5385d89910b"
  },
  {
   "metadata": {
    "ExecuteTime": {
     "end_time": "2025-10-14T18:42:15.469517Z",
     "start_time": "2025-10-14T18:42:15.466501Z"
    }
   },
   "cell_type": "code",
   "source": "user_message = \"What's the weather in Warsaw?\"",
   "id": "19f8c00217dad701",
   "outputs": [],
   "execution_count": 3
  },
  {
   "metadata": {},
   "cell_type": "markdown",
   "source": "### Let's make the first LLM call to decide which tool to use and with what parameters",
   "id": "cecd1cb0863f065"
  },
  {
   "metadata": {
    "ExecuteTime": {
     "end_time": "2025-10-14T18:42:33.262562Z",
     "start_time": "2025-10-14T18:42:15.824387Z"
    }
   },
   "cell_type": "code",
   "source": [
    "url = \"https://api.anthropic.com/v1/messages\"\n",
    "\n",
    "headers = {\n",
    "    \"Content-Type\": \"application/json\",\n",
    "    \"x-api-key\": os.getenv(\"ANTHROPIC_API_KEY\"),\n",
    "    \"anthropic-version\": \"2023-06-01\",\n",
    "}\n",
    "\n",
    "payload = {\n",
    "    \"model\": \"claude-sonnet-4-5\",\n",
    "    \"max_tokens\": 300,\n",
    "    \"tools\": tools,\n",
    "    \"tool_choice\": {\"type\": \"auto\"},\n",
    "    \"messages\": [\n",
    "        {\n",
    "            \"role\": \"user\",\n",
    "            \"content\": user_message,\n",
    "        }\n",
    "    ]\n",
    "}\n",
    "resp = requests.post(url, headers=headers, json=payload)"
   ],
   "id": "f6785294e3533df9",
   "outputs": [],
   "execution_count": 4
  },
  {
   "metadata": {
    "ExecuteTime": {
     "end_time": "2025-10-14T18:42:33.287448Z",
     "start_time": "2025-10-14T18:42:33.284823Z"
    }
   },
   "cell_type": "code",
   "source": "response_content = resp.json().get(\"content\", [])",
   "id": "c62d70d2024eb443",
   "outputs": [],
   "execution_count": 5
  },
  {
   "metadata": {
    "ExecuteTime": {
     "end_time": "2025-10-14T18:42:33.308637Z",
     "start_time": "2025-10-14T18:42:33.289501Z"
    }
   },
   "cell_type": "code",
   "source": "response_content",
   "id": "68a4008ff416a0ee",
   "outputs": [
    {
     "data": {
      "text/plain": [
       "[{'type': 'text',\n",
       "  'text': \"I'll get the current weather in Warsaw for you. Let me fetch that information using Warsaw's coordinates (approximately 52.23°N, 21.01°E).\"},\n",
       " {'type': 'tool_use',\n",
       "  'id': 'toolu_012wnTRyQp6EkEfgEc5ZMCvD',\n",
       "  'name': 'get_weather',\n",
       "  'input': {'latitude': '52.23', 'longitude': '21.01'}}]"
      ]
     },
     "execution_count": 6,
     "metadata": {},
     "output_type": "execute_result"
    }
   ],
   "execution_count": 6
  },
  {
   "metadata": {},
   "cell_type": "markdown",
   "source": "### Now let's process the output from the tool use step",
   "id": "fa07bf2c053185ad"
  },
  {
   "metadata": {
    "ExecuteTime": {
     "end_time": "2025-10-14T18:42:33.313957Z",
     "start_time": "2025-10-14T18:42:33.310959Z"
    }
   },
   "cell_type": "code",
   "source": [
    "# Extracting tools\n",
    "tools = [block for block in response_content if block.get(\"type\") == \"tool_use\"]"
   ],
   "id": "71e103c7db1fcda9",
   "outputs": [],
   "execution_count": 7
  },
  {
   "metadata": {
    "ExecuteTime": {
     "end_time": "2025-10-14T18:41:04.256161Z",
     "start_time": "2025-10-14T18:41:03.882847Z"
    }
   },
   "cell_type": "code",
   "source": [
    "# Use tools\n",
    "for tool in tools:\n",
    "    if tool[\"name\"] == \"get_weather\":\n",
    "        latitude = tool[\"input\"][\"latitude\"]\n",
    "        longitude = tool[\"input\"][\"longitude\"]\n",
    "        weather_tool_response = requests.get(\n",
    "            url=\"https://api.open-meteo.com/v1/forecast\",\n",
    "            params={\"latitude\": latitude, \"longitude\": longitude, \"current_weather\": True}\n",
    "        )\n",
    "        weather_info = weather_tool_response.json()[\"current_weather\"]\n",
    "        tool[\"output\"] = weather_info"
   ],
   "id": "9145082cb221cf5",
   "outputs": [],
   "execution_count": 126
  },
  {
   "metadata": {
    "ExecuteTime": {
     "end_time": "2025-10-14T18:41:04.942882Z",
     "start_time": "2025-10-14T18:41:04.939953Z"
    }
   },
   "cell_type": "code",
   "source": [
    "# Collecting outputs from all tools into a single string\n",
    "tool_outputs = \"\\n\".join([f\"Tool: {tool['name']}, Output: {tool.get('output', 'No output')}\" for tool in tools])"
   ],
   "id": "69d463b59cf37fb0",
   "outputs": [],
   "execution_count": 127
  },
  {
   "metadata": {
    "ExecuteTime": {
     "end_time": "2025-10-14T18:41:05.507919Z",
     "start_time": "2025-10-14T18:41:05.504919Z"
    }
   },
   "cell_type": "code",
   "source": "tool_outputs",
   "id": "a9039020485e6b65",
   "outputs": [
    {
     "data": {
      "text/plain": [
       "\"Tool: get_weather, Output: {'time': '2025-10-14T18:30', 'interval': 900, 'temperature': 15.6, 'windspeed': 12.4, 'winddirection': 188, 'is_day': 0, 'weathercode': 2}\""
      ]
     },
     "execution_count": 128,
     "metadata": {},
     "output_type": "execute_result"
    }
   ],
   "execution_count": 128
  },
  {
   "metadata": {},
   "cell_type": "markdown",
   "source": "### Finally, let's make the last LLM call to get the final answer",
   "id": "dbc78c2aff854010"
  },
  {
   "metadata": {
    "ExecuteTime": {
     "end_time": "2025-10-14T18:41:05.859233Z",
     "start_time": "2025-10-14T18:41:05.855702Z"
    }
   },
   "cell_type": "code",
   "source": [
    "final_prompt = f\"\"\"You are an assistant that responds to user question based on the tools used. Respond politely to user's question using the output from the tools. Use Celsius scale. If the tools output is empty, then always respond with \"I don't know\".\n",
    "\n",
    "<user question>\n",
    "{user_message}\n",
    "</user question>\n",
    "\n",
    "<tool_outputs>\n",
    "{tool_outputs}\n",
    "</tool_outputs>\"\"\""
   ],
   "id": "6ec533475f0be339",
   "outputs": [],
   "execution_count": 129
  },
  {
   "metadata": {
    "ExecuteTime": {
     "end_time": "2025-10-14T18:41:12.718227Z",
     "start_time": "2025-10-14T18:41:12.715739Z"
    }
   },
   "cell_type": "code",
   "source": "print(final_prompt)",
   "id": "3e854f46bc73b059",
   "outputs": [
    {
     "name": "stdout",
     "output_type": "stream",
     "text": [
      "You are an assistant that responds to user question based on the tools used. Respond politely to user's question using the output from the tools. Use Celsius scale. If the tools output is empty, then always respond with \"I don't know\".\n",
      "\n",
      "<user question>\n",
      "What's the weather in Cape Town now?\n",
      "</user question>\n",
      "\n",
      "<tool_outputs>\n",
      "Tool: get_weather, Output: {'time': '2025-10-14T18:30', 'interval': 900, 'temperature': 15.6, 'windspeed': 12.4, 'winddirection': 188, 'is_day': 0, 'weathercode': 2}\n",
      "</tool_outputs>\n"
     ]
    }
   ],
   "execution_count": 130
  },
  {
   "metadata": {
    "ExecuteTime": {
     "end_time": "2025-10-14T18:41:16.851801Z",
     "start_time": "2025-10-14T18:41:13.221476Z"
    }
   },
   "cell_type": "code",
   "source": [
    "payload = {\n",
    "    \"model\": \"claude-sonnet-4-5\",\n",
    "    \"max_tokens\": 300,\n",
    "    \"messages\": [\n",
    "        {\n",
    "            \"role\": \"user\",\n",
    "            \"content\": final_prompt,\n",
    "        }\n",
    "    ]\n",
    "}\n",
    "final_response = requests.post(url, headers=headers, json=payload)"
   ],
   "id": "3e8fe82892ed29d3",
   "outputs": [],
   "execution_count": 131
  },
  {
   "metadata": {},
   "cell_type": "markdown",
   "source": "### Odczytujemy finalną odpowiedź",
   "id": "5b9d9798f65cbe59"
  },
  {
   "metadata": {
    "ExecuteTime": {
     "end_time": "2025-10-14T18:41:18.558898Z",
     "start_time": "2025-10-14T18:41:18.555967Z"
    }
   },
   "cell_type": "code",
   "source": "print(final_response.json().get(\"content\", [])[0].get(\"text\", \"No response\"))",
   "id": "80b8e55242fa30fd",
   "outputs": [
    {
     "name": "stdout",
     "output_type": "stream",
     "text": [
      "Based on the current weather in Cape Town:\n",
      "\n",
      "**Temperature:** 15.6°C  \n",
      "**Wind:** 12.4 km/h from the south  \n",
      "**Conditions:** Partly cloudy  \n",
      "**Time:** 6:30 PM (nighttime)\n",
      "\n",
      "It's a pleasant evening in Cape Town with mild temperatures and moderate winds.\n"
     ]
    }
   ],
   "execution_count": 132
  },
  {
   "metadata": {
    "ExecuteTime": {
     "end_time": "2025-10-14T18:33:11.277938200Z",
     "start_time": "2025-10-14T18:30:26.225949Z"
    }
   },
   "cell_type": "code",
   "source": "",
   "id": "5bdb194489c31506",
   "outputs": [],
   "execution_count": null
  },
  {
   "metadata": {
    "ExecuteTime": {
     "end_time": "2025-10-14T18:33:11.278938800Z",
     "start_time": "2025-10-14T18:30:26.241042Z"
    }
   },
   "cell_type": "code",
   "source": "",
   "id": "4ed83552170085da",
   "outputs": [],
   "execution_count": null
  },
  {
   "metadata": {},
   "cell_type": "code",
   "outputs": [],
   "execution_count": null,
   "source": "",
   "id": "7da966b603801fdb"
  },
  {
   "metadata": {},
   "cell_type": "code",
   "outputs": [],
   "execution_count": null,
   "source": "",
   "id": "403aab902598547f"
  }
 ],
 "metadata": {
  "kernelspec": {
   "display_name": "Python 3",
   "language": "python",
   "name": "python3"
  },
  "language_info": {
   "codemirror_mode": {
    "name": "ipython",
    "version": 2
   },
   "file_extension": ".py",
   "mimetype": "text/x-python",
   "name": "python",
   "nbconvert_exporter": "python",
   "pygments_lexer": "ipython2",
   "version": "2.7.6"
  }
 },
 "nbformat": 4,
 "nbformat_minor": 5
}
