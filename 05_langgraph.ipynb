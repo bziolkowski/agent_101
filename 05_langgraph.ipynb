{
 "cells": [
  {
   "cell_type": "code",
   "id": "initial_id",
   "metadata": {
    "collapsed": true,
    "ExecuteTime": {
     "end_time": "2025-10-23T12:15:30.037023Z",
     "start_time": "2025-10-23T12:15:30.026456Z"
    }
   },
   "source": [
    "import os\n",
    "\n",
    "from dotenv import load_dotenv\n",
    "_ = load_dotenv()"
   ],
   "outputs": [],
   "execution_count": 1
  },
  {
   "metadata": {
    "ExecuteTime": {
     "end_time": "2025-10-23T12:15:30.590170Z",
     "start_time": "2025-10-23T12:15:30.071868Z"
    }
   },
   "cell_type": "code",
   "source": [
    "from langgraph.graph import StateGraph, END\n",
    "from typing import TypedDict, Annotated\n",
    "import operator\n",
    "from langchain_core.messages import AnyMessage, SystemMessage, HumanMessage, ToolMessage\n",
    "from langchain_openai import AzureChatOpenAI\n",
    "import httpx"
   ],
   "id": "b904f895dea9e78b",
   "outputs": [],
   "execution_count": 2
  },
  {
   "metadata": {
    "ExecuteTime": {
     "end_time": "2025-10-23T12:15:32.991209Z",
     "start_time": "2025-10-23T12:15:30.595159Z"
    }
   },
   "cell_type": "code",
   "source": [
    "from fastmcp import Client\n",
    "\n",
    "mcp_client = Client(\"02_agent_mcp_server.py\")\n",
    "await mcp_client.__aenter__()\n",
    "\n",
    "mcp_tools = await mcp_client.list_tools()\n",
    "\n",
    "tools = [\n",
    "    {\n",
    "        \"name\": tool.name,\n",
    "        \"description\": tool.description,\n",
    "        \"parameters\": getattr(tool, 'inputSchema', {\"type\": \"object\", \"properties\": {}})\n",
    "    }\n",
    "    for tool in mcp_tools\n",
    "]\n",
    "tools"
   ],
   "id": "160e00a084334c15",
   "outputs": [
    {
     "data": {
      "text/plain": [
       "[{'name': 'get_weather',\n",
       "  'description': 'Get the current weather in a given location\\n\\nArgs:\\n    latitude: Latitude of the location for which to get the weather\\n    longitude: Longitude of the location for which to get the weather\\n\\nReturns:\\n    JSON with current weather information',\n",
       "  'parameters': {'properties': {'latitude': {'type': 'string'},\n",
       "    'longitude': {'type': 'string'}},\n",
       "   'required': ['latitude', 'longitude'],\n",
       "   'type': 'object'}},\n",
       " {'name': 'facts_from_wikipedia',\n",
       "  'description': 'Get Wikipedia facts about a given topic, location, person etc.\\n\\nArgs:\\n    topic: A topic, location, person etc. to search for on Wikipedia\\n\\nReturns:\\n    JSON with Wikipedia information',\n",
       "  'parameters': {'properties': {'topic': {'type': 'string'}},\n",
       "   'required': ['topic'],\n",
       "   'type': 'object'}}]"
      ]
     },
     "execution_count": 3,
     "metadata": {},
     "output_type": "execute_result"
    }
   ],
   "execution_count": 3
  },
  {
   "metadata": {
    "ExecuteTime": {
     "end_time": "2025-10-23T12:15:33.055168Z",
     "start_time": "2025-10-23T12:15:33.052066Z"
    }
   },
   "cell_type": "code",
   "source": [
    "class AgentState(TypedDict):\n",
    "    messages: Annotated[list[AnyMessage], operator.add]"
   ],
   "id": "d1e9557aa88a741a",
   "outputs": [],
   "execution_count": 4
  },
  {
   "metadata": {
    "ExecuteTime": {
     "end_time": "2025-10-23T12:15:33.113606Z",
     "start_time": "2025-10-23T12:15:33.104691Z"
    }
   },
   "cell_type": "code",
   "source": [
    "class Agent:\n",
    "\n",
    "    def __init__(self, model, tools, system=\"\"):\n",
    "        self.system = system\n",
    "        graph = StateGraph(AgentState)\n",
    "        graph.add_node(\"llm\", self.call_openai)\n",
    "        graph.add_node(\"action\", self.take_action)\n",
    "        graph.add_conditional_edges(\n",
    "            \"llm\",\n",
    "            self.exists_action,\n",
    "            {True: \"action\", False: END}\n",
    "        )\n",
    "        graph.add_edge(\"action\", \"llm\")\n",
    "        graph.set_entry_point(\"llm\")\n",
    "        self.graph = graph.compile()\n",
    "        self.tools = {t['name']: t for t in tools}\n",
    "        self.model = model.bind_tools(tools)\n",
    "\n",
    "    def exists_action(self, state: AgentState):\n",
    "        result = state['messages'][-1]\n",
    "        print(result)\n",
    "        return len(result.tool_calls) > 0\n",
    "\n",
    "    def call_openai(self, state: AgentState):\n",
    "        messages = state['messages']\n",
    "        if self.system:\n",
    "            messages = [SystemMessage(content=self.system)] + messages\n",
    "        message = self.model.invoke(messages)\n",
    "        return {'messages': [message]}\n",
    "\n",
    "    async def take_action(self, state: AgentState):\n",
    "        tool_calls = state['messages'][-1].tool_calls\n",
    "        results = []\n",
    "        for t in tool_calls:\n",
    "            print(f\"Calling: {t}\")\n",
    "            if not t['name'] in self.tools:\n",
    "                result = \"bad tool call\"\n",
    "            else:\n",
    "                r = await mcp_client.call_tool(t['name'], t['args'])\n",
    "                if hasattr(r, 'content') and r.content:\n",
    "                    result = r.content[0].text\n",
    "                else:\n",
    "                    result = str(r)\n",
    "            results.append(ToolMessage(tool_call_id=t['id'], name=t['name'], content=str(result)))\n",
    "        return {'messages': results}"
   ],
   "id": "97e10de4adabd38c",
   "outputs": [],
   "execution_count": 5
  },
  {
   "metadata": {
    "ExecuteTime": {
     "end_time": "2025-10-23T12:15:33.313224Z",
     "start_time": "2025-10-23T12:15:33.160970Z"
    }
   },
   "cell_type": "code",
   "source": [
    "prompt = \"\"\"You are a smart research assistant. Use the search engine to look up information. \\\n",
    "You are allowed to make multiple calls (either together or in sequence). \\\n",
    "Only look up information when you are sure of what you want. \\\n",
    "If you need to look up some information before asking a follow up question, you are allowed to do that!\n",
    "\"\"\"\n",
    "model = AzureChatOpenAI(\n",
    "        api_key=os.environ[\"AZURE_OPENAI_API_KEY\"],\n",
    "            azure_endpoint=os.environ[\"AZURE_ENDPOINT\"],\n",
    "            api_version=\"2024-08-01-preview\",\n",
    "            deployment_name=os.environ['AZURE_MODEL_NAME'],\n",
    "            temperature=0,\n",
    "            model=os.environ['AZURE_MODEL_NAME'],\n",
    "            http_client=httpx.Client(verify=False),\n",
    "            http_async_client=httpx.AsyncClient(verify=False),\n",
    "        )\n",
    "abot = Agent(model, tools, system=prompt)"
   ],
   "id": "431f6de884fb1416",
   "outputs": [],
   "execution_count": 6
  },
  {
   "metadata": {
    "ExecuteTime": {
     "end_time": "2025-10-23T12:15:34.913159Z",
     "start_time": "2025-10-23T12:15:33.319576Z"
    }
   },
   "cell_type": "code",
   "source": [
    "messages = [HumanMessage(content=\"What is the weather in warsaw?\")]\n",
    "result = await abot.graph.ainvoke({\"messages\": messages})"
   ],
   "id": "df810dde332f7b4f",
   "outputs": [
    {
     "name": "stdout",
     "output_type": "stream",
     "text": [
      "content='' additional_kwargs={'refusal': None} response_metadata={'token_usage': {'completion_tokens': 25, 'prompt_tokens': 217, 'total_tokens': 242, 'completion_tokens_details': {'accepted_prediction_tokens': 0, 'audio_tokens': 0, 'reasoning_tokens': 0, 'rejected_prediction_tokens': 0}, 'prompt_tokens_details': {'audio_tokens': 0, 'cached_tokens': 0}}, 'model_provider': 'openai', 'model_name': 'gpt-4o-2024-05-13', 'system_fingerprint': 'fp_ee1d74bde0', 'id': 'chatcmpl-CToW5GrOIff4varyeYbPXrdT3oClb', 'prompt_filter_results': [{'prompt_index': 0, 'content_filter_results': {'hate': {'filtered': False, 'severity': 'safe'}, 'self_harm': {'filtered': False, 'severity': 'safe'}, 'sexual': {'filtered': False, 'severity': 'safe'}, 'violence': {'filtered': False, 'severity': 'safe'}}}], 'finish_reason': 'tool_calls', 'logprobs': None, 'content_filter_results': {}} id='lc_run--bb284f87-163e-4a73-9b2c-a5036f8952d9-0' tool_calls=[{'name': 'get_weather', 'args': {'latitude': '52.2297', 'longitude': '21.0122'}, 'id': 'call_Gxicwadksl9VOwzvMClUCaoU', 'type': 'tool_call'}] usage_metadata={'input_tokens': 217, 'output_tokens': 25, 'total_tokens': 242, 'input_token_details': {'audio': 0, 'cache_read': 0}, 'output_token_details': {'audio': 0, 'reasoning': 0}}\n",
      "Calling: {'name': 'get_weather', 'args': {'latitude': '52.2297', 'longitude': '21.0122'}, 'id': 'call_Gxicwadksl9VOwzvMClUCaoU', 'type': 'tool_call'}\n",
      "content='The current weather in Warsaw is as follows:\\n- Temperature: 15.8°C\\n- Windspeed: 16.6 km/h\\n- Wind direction: 141°\\n- Daytime: Yes\\n- Weather condition: Partly cloudy' additional_kwargs={'refusal': None} response_metadata={'token_usage': {'completion_tokens': 51, 'prompt_tokens': 357, 'total_tokens': 408, 'completion_tokens_details': {'accepted_prediction_tokens': 0, 'audio_tokens': 0, 'reasoning_tokens': 0, 'rejected_prediction_tokens': 0}, 'prompt_tokens_details': {'audio_tokens': 0, 'cached_tokens': 0}}, 'model_provider': 'openai', 'model_name': 'gpt-4o-2024-05-13', 'system_fingerprint': 'fp_ee1d74bde0', 'id': 'chatcmpl-CToW68LJX3Uy6BkVOSEMj76cvMitb', 'prompt_filter_results': [{'prompt_index': 0, 'content_filter_results': {'hate': {'filtered': False, 'severity': 'safe'}, 'self_harm': {'filtered': False, 'severity': 'safe'}, 'sexual': {'filtered': False, 'severity': 'safe'}, 'violence': {'filtered': False, 'severity': 'safe'}}}], 'finish_reason': 'stop', 'logprobs': None, 'content_filter_results': {'hate': {'filtered': False, 'severity': 'safe'}, 'self_harm': {'filtered': False, 'severity': 'safe'}, 'sexual': {'filtered': False, 'severity': 'safe'}, 'violence': {'filtered': False, 'severity': 'safe'}}} id='lc_run--a1b65b0f-dd01-4af8-befd-4038dbd07ebf-0' usage_metadata={'input_tokens': 357, 'output_tokens': 51, 'total_tokens': 408, 'input_token_details': {'audio': 0, 'cache_read': 0}, 'output_token_details': {'audio': 0, 'reasoning': 0}}\n"
     ]
    }
   ],
   "execution_count": 7
  },
  {
   "metadata": {
    "ExecuteTime": {
     "end_time": "2025-10-23T12:15:34.973769Z",
     "start_time": "2025-10-23T12:15:34.968856Z"
    }
   },
   "cell_type": "code",
   "source": "result['messages'][-1].content",
   "id": "32f58540bcd3fbf9",
   "outputs": [
    {
     "data": {
      "text/plain": [
       "{'messages': [HumanMessage(content='What is the weather in warsaw?', additional_kwargs={}, response_metadata={}),\n",
       "  AIMessage(content='', additional_kwargs={'refusal': None}, response_metadata={'token_usage': {'completion_tokens': 25, 'prompt_tokens': 217, 'total_tokens': 242, 'completion_tokens_details': {'accepted_prediction_tokens': 0, 'audio_tokens': 0, 'reasoning_tokens': 0, 'rejected_prediction_tokens': 0}, 'prompt_tokens_details': {'audio_tokens': 0, 'cached_tokens': 0}}, 'model_provider': 'openai', 'model_name': 'gpt-4o-2024-05-13', 'system_fingerprint': 'fp_ee1d74bde0', 'id': 'chatcmpl-CToW5GrOIff4varyeYbPXrdT3oClb', 'prompt_filter_results': [{'prompt_index': 0, 'content_filter_results': {'hate': {'filtered': False, 'severity': 'safe'}, 'self_harm': {'filtered': False, 'severity': 'safe'}, 'sexual': {'filtered': False, 'severity': 'safe'}, 'violence': {'filtered': False, 'severity': 'safe'}}}], 'finish_reason': 'tool_calls', 'logprobs': None, 'content_filter_results': {}}, id='lc_run--bb284f87-163e-4a73-9b2c-a5036f8952d9-0', tool_calls=[{'name': 'get_weather', 'args': {'latitude': '52.2297', 'longitude': '21.0122'}, 'id': 'call_Gxicwadksl9VOwzvMClUCaoU', 'type': 'tool_call'}], usage_metadata={'input_tokens': 217, 'output_tokens': 25, 'total_tokens': 242, 'input_token_details': {'audio': 0, 'cache_read': 0}, 'output_token_details': {'audio': 0, 'reasoning': 0}}),\n",
       "  ToolMessage(content='{\\n  \"success\": true,\\n  \"location\": {\\n    \"latitude\": \"52.2297\",\\n    \"longitude\": \"21.0122\"\\n  },\\n  \"weather\": {\\n    \"time\": \"2025-10-23T12:15\",\\n    \"interval\": 900,\\n    \"temperature\": 15.8,\\n    \"windspeed\": 16.6,\\n    \"winddirection\": 141,\\n    \"is_day\": 1,\\n    \"weathercode\": 3\\n  }\\n}', name='get_weather', tool_call_id='call_Gxicwadksl9VOwzvMClUCaoU'),\n",
       "  AIMessage(content='The current weather in Warsaw is as follows:\\n- Temperature: 15.8°C\\n- Windspeed: 16.6 km/h\\n- Wind direction: 141°\\n- Daytime: Yes\\n- Weather condition: Partly cloudy', additional_kwargs={'refusal': None}, response_metadata={'token_usage': {'completion_tokens': 51, 'prompt_tokens': 357, 'total_tokens': 408, 'completion_tokens_details': {'accepted_prediction_tokens': 0, 'audio_tokens': 0, 'reasoning_tokens': 0, 'rejected_prediction_tokens': 0}, 'prompt_tokens_details': {'audio_tokens': 0, 'cached_tokens': 0}}, 'model_provider': 'openai', 'model_name': 'gpt-4o-2024-05-13', 'system_fingerprint': 'fp_ee1d74bde0', 'id': 'chatcmpl-CToW68LJX3Uy6BkVOSEMj76cvMitb', 'prompt_filter_results': [{'prompt_index': 0, 'content_filter_results': {'hate': {'filtered': False, 'severity': 'safe'}, 'self_harm': {'filtered': False, 'severity': 'safe'}, 'sexual': {'filtered': False, 'severity': 'safe'}, 'violence': {'filtered': False, 'severity': 'safe'}}}], 'finish_reason': 'stop', 'logprobs': None, 'content_filter_results': {'hate': {'filtered': False, 'severity': 'safe'}, 'self_harm': {'filtered': False, 'severity': 'safe'}, 'sexual': {'filtered': False, 'severity': 'safe'}, 'violence': {'filtered': False, 'severity': 'safe'}}}, id='lc_run--a1b65b0f-dd01-4af8-befd-4038dbd07ebf-0', usage_metadata={'input_tokens': 357, 'output_tokens': 51, 'total_tokens': 408, 'input_token_details': {'audio': 0, 'cache_read': 0}, 'output_token_details': {'audio': 0, 'reasoning': 0}})]}"
      ]
     },
     "execution_count": 8,
     "metadata": {},
     "output_type": "execute_result"
    }
   ],
   "execution_count": 8
  }
 ],
 "metadata": {
  "kernelspec": {
   "display_name": "Python 3",
   "language": "python",
   "name": "python3"
  },
  "language_info": {
   "codemirror_mode": {
    "name": "ipython",
    "version": 2
   },
   "file_extension": ".py",
   "mimetype": "text/x-python",
   "name": "python",
   "nbconvert_exporter": "python",
   "pygments_lexer": "ipython2",
   "version": "2.7.6"
  }
 },
 "nbformat": 4,
 "nbformat_minor": 5
}
